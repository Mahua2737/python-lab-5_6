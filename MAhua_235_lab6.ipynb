{
 "cells": [
  {
   "cell_type": "markdown",
   "metadata": {},
   "source": [
    "Write a program using the Regular Exception and create a function that accepts a string and searches it for a valid phone number.\n",
    "Return the phone number if found.\n",
    "A valid phone number may be one of the following:\n",
    "(xxx)-xxx-xxxx\n",
    "xxx-xxx-xxxx\n"
   ]
  },
  {
   "cell_type": "code",
   "execution_count": 3,
   "metadata": {},
   "outputs": [
    {
     "name": "stdout",
     "output_type": "stream",
     "text": [
      "(123)-456-7890\n",
      "987-654-3210\n",
      "None\n",
      "None\n"
     ]
    }
   ],
   "source": [
    "import re \n",
    "\n",
    "def find_phone_number(text):\n",
    "    number = re.search(r\"(\\(\\d{3}\\)-\\d{3}-\\d{4}|\\d{3}-\\d{3}-\\d{4})\", text)\n",
    "    if number:\n",
    "        return number.group()\n",
    "    return None\n",
    "\n",
    "\n",
    "phone_number = find_phone_number(\"Please call me at (123)-456-7890\")\n",
    "print(phone_number)  \n",
    "\n",
    "phone_number = find_phone_number(\"My number is 987-654-3210\")\n",
    "print(phone_number)  \n",
    "\n",
    "phone_number = find_phone_number(\"No phone number here\")\n",
    "print(phone_number)  \n",
    "\n",
    "text=input(\"Enter the phone Number: \")\n",
    "phone_number = find_phone_number(text)\n",
    "print(phone_number)  "
   ]
  },
  {
   "cell_type": "markdown",
   "metadata": {},
   "source": [
    "Q2. Write a function that employs regular expressions to ensure the password given to the function is strong.\n",
    "A strong password is defined as follows:\n",
    "·       at least eight characters long\n",
    "·       contains one uppercase character\n",
    "·       contains one lowercase character\n",
    "·       has at least one digit\n",
    "·       has at least one special character"
   ]
  },
  {
   "cell_type": "code",
   "execution_count": 4,
   "metadata": {},
   "outputs": [
    {
     "name": "stdout",
     "output_type": "stream",
     "text": [
      "Password is strong!\n"
     ]
    }
   ],
   "source": [
    "import re\n",
    "\n",
    "def is_strong_password(password):\n",
    "    # At least eight characters long\n",
    "    if len(password) < 8:\n",
    "        return False\n",
    "\n",
    "    # Contains one uppercase character\n",
    "    if not re.search(r'[A-Z]', password):\n",
    "        return False\n",
    "\n",
    "    # Contains one lowercase character\n",
    "    if not re.search(r'[a-z]', password):\n",
    "        return False\n",
    "\n",
    "    # Contains at least one digit\n",
    "    if not re.search(r'\\d', password):\n",
    "        return False\n",
    "\n",
    "    # Contains at least one special character\n",
    "    if not re.search(r'[!@#$%^&*()-=_+|;,.<>/?]', password):\n",
    "        return False\n",
    "\n",
    "    # All criteria met, password is strong\n",
    "    return True\n",
    "\n",
    "# input Christ\n",
    "password = input(\"Enter your password: \")\n",
    "if is_strong_password(password):\n",
    "    print(\"Password is strong!\")\n",
    "else:\n",
    "    print(\"Password is not strong.\")\n",
    "\n"
   ]
  }
 ],
 "metadata": {
  "kernelspec": {
   "display_name": "Python 3",
   "language": "python",
   "name": "python3"
  },
  "language_info": {
   "codemirror_mode": {
    "name": "ipython",
    "version": 3
   },
   "file_extension": ".py",
   "mimetype": "text/x-python",
   "name": "python",
   "nbconvert_exporter": "python",
   "pygments_lexer": "ipython3",
   "version": "3.10.8"
  },
  "orig_nbformat": 4
 },
 "nbformat": 4,
 "nbformat_minor": 2
}
